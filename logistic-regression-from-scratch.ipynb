{
 "cells": [
  {
   "cell_type": "markdown",
   "id": "0c945f3b",
   "metadata": {
    "papermill": {
     "duration": 0.049975,
     "end_time": "2022-04-19T10:30:35.342355",
     "exception": false,
     "start_time": "2022-04-19T10:30:35.292380",
     "status": "completed"
    },
    "tags": []
   },
   "source": [
    "# Introduction"
   ]
  },
  {
   "cell_type": "markdown",
   "id": "2a0729b6",
   "metadata": {
    "papermill": {
     "duration": 0.057528,
     "end_time": "2022-04-19T10:30:35.448331",
     "exception": false,
     "start_time": "2022-04-19T10:30:35.390803",
     "status": "completed"
    },
    "tags": []
   },
   "source": [
    "**Binary Classification**"
   ]
  },
  {
   "cell_type": "markdown",
   "id": "a912a9eb",
   "metadata": {
    "papermill": {
     "duration": 0.047583,
     "end_time": "2022-04-19T10:30:35.551121",
     "exception": false,
     "start_time": "2022-04-19T10:30:35.503538",
     "status": "completed"
    },
    "tags": []
   },
   "source": [
    "![wall-e gif](https://media.giphy.com/media/rGoaC852Sn6tW/giphy.gif)\n",
    "\n",
    "(*Wall-e tries to classify a spork*)"
   ]
  },
  {
   "cell_type": "markdown",
   "id": "54995ad8",
   "metadata": {
    "papermill": {
     "duration": 0.047465,
     "end_time": "2022-04-19T10:30:35.646619",
     "exception": false,
     "start_time": "2022-04-19T10:30:35.599154",
     "status": "completed"
    },
    "tags": []
   },
   "source": [
    "The objective of binary classification is to predict a target that can be **one of two things**, e.g. 0 or 1, car or plane, spoon or fork, etc. \n",
    "\n",
    "Logistic regression is a **popular**, **effective** and (as you might be surprised to find out) relatively **simple** algorithm used to solve this problem."
   ]
  },
  {
   "cell_type": "markdown",
   "id": "eb480afc",
   "metadata": {
    "papermill": {
     "duration": 0.047609,
     "end_time": "2022-04-19T10:30:35.742696",
     "exception": false,
     "start_time": "2022-04-19T10:30:35.695087",
     "status": "completed"
    },
    "tags": []
   },
   "source": [
    "In this notebook we will:\n",
    "* **Motivate** logistic regression and provide intuition\n",
    "* **Derive** its mathematical formulation\n",
    "* **Build** a logistic regression model from scratch"
   ]
  },
  {
   "cell_type": "markdown",
   "id": "bccd0733",
   "metadata": {
    "papermill": {
     "duration": 0.047405,
     "end_time": "2022-04-19T10:30:35.837780",
     "exception": false,
     "start_time": "2022-04-19T10:30:35.790375",
     "status": "completed"
    },
    "tags": []
   },
   "source": [
    "**Notation**"
   ]
  },
  {
   "cell_type": "markdown",
   "id": "5ef0439f",
   "metadata": {
    "execution": {
     "iopub.execute_input": "2022-04-14T14:30:49.641148Z",
     "iopub.status.busy": "2022-04-14T14:30:49.640841Z",
     "iopub.status.idle": "2022-04-14T14:30:49.648846Z",
     "shell.execute_reply": "2022-04-14T14:30:49.648162Z",
     "shell.execute_reply.started": "2022-04-14T14:30:49.641115Z"
    },
    "papermill": {
     "duration": 0.047476,
     "end_time": "2022-04-19T10:30:35.933231",
     "exception": false,
     "start_time": "2022-04-19T10:30:35.885755",
     "status": "completed"
    },
    "tags": []
   },
   "source": [
    "1. $(x,y)$ is a **single** training example.\n",
    "2. $y \\in \\{0,1\\}$ is a **number** and $x = (x_1, x_2, ..., x_n) \\in \\mathbb{R}^{n}$ is a **vector**.\n",
    "3. The training set contains **m samples**: $(x^{(1)},y^{(1)}), ... ,(x^{(m)},y^{(m)})$ \n",
    "4. Define $$X=\\left[\n",
    "  \\begin{array}{cccc}\n",
    "    \\vert & \\vert &        & \\vert \\\\\n",
    "    x^{(1)}    & x^{(2)}    & \\ldots & x^{(m)}    \\\\\n",
    "    \\vert & \\vert &        & \\vert \n",
    "  \\end{array}\n",
    "\\right] \\in \\mathbb{R}^{n \\times m},\n",
    "\\qquad\n",
    "Y=[y^{(1)}, y^{(2)}, ..., y^{(m)}] \\in \\mathbb{R}^{m}.\n",
    "$$"
   ]
  },
  {
   "cell_type": "markdown",
   "id": "7de63441",
   "metadata": {
    "papermill": {
     "duration": 0.057622,
     "end_time": "2022-04-19T10:30:36.049729",
     "exception": false,
     "start_time": "2022-04-19T10:30:35.992107",
     "status": "completed"
    },
    "tags": []
   },
   "source": [
    "**Libraries**"
   ]
  },
  {
   "cell_type": "code",
   "execution_count": 1,
   "id": "2787b175",
   "metadata": {
    "execution": {
     "iopub.execute_input": "2022-04-19T10:30:36.151448Z",
     "iopub.status.busy": "2022-04-19T10:30:36.150872Z",
     "iopub.status.idle": "2022-04-19T10:30:37.296586Z",
     "shell.execute_reply": "2022-04-19T10:30:37.295669Z"
    },
    "papermill": {
     "duration": 1.198922,
     "end_time": "2022-04-19T10:30:37.299202",
     "exception": false,
     "start_time": "2022-04-19T10:30:36.100280",
     "status": "completed"
    },
    "tags": []
   },
   "outputs": [],
   "source": [
    "import numpy as np\n",
    "import pandas as pd\n",
    "import matplotlib.pyplot as plt\n",
    "%matplotlib inline\n",
    "import seaborn as sns\n",
    "sns.set(style='darkgrid', font_scale=1.4)\n",
    "import time\n",
    "from sklearn.model_selection import train_test_split\n",
    "from sklearn.linear_model import LogisticRegression\n",
    "from sklearn.utils import resample"
   ]
  },
  {
   "cell_type": "markdown",
   "id": "7b9cc24f",
   "metadata": {
    "papermill": {
     "duration": 0.047702,
     "end_time": "2022-04-19T10:30:37.395543",
     "exception": false,
     "start_time": "2022-04-19T10:30:37.347841",
     "status": "completed"
    },
    "tags": []
   },
   "source": [
    "# Logistic Regression"
   ]
  },
  {
   "cell_type": "markdown",
   "id": "9507e27e",
   "metadata": {
    "papermill": {
     "duration": 0.053325,
     "end_time": "2022-04-19T10:30:37.501964",
     "exception": false,
     "start_time": "2022-04-19T10:30:37.448639",
     "status": "completed"
    },
    "tags": []
   },
   "source": [
    "Given $x$, we want to find the **probability** that $x$ belongs to class $1$: $$\\hat{y}=\\mathbb{P}(y=1|x).$$\n",
    "\n",
    "In **linear regression**, we would use $\\hat{y}=w^{T}x+b$ (this is the equation of a **line** in higher dimensions), where $w \\in \\mathbb{R}^{n}$ are the weights/slope and $b \\in \\mathbb{R}$ is the bias/intercept. The problem here is that this can output **negative** values or values that are **bigger than 1**, which doesn't make sense for probabilities.\n",
    "\n",
    "The solution is to apply a function that forces the output to be **between 0 and 1**. The function that everyone uses (because it has a nice gradient as we'll see later) is the **sigmoid function**: \n",
    "\n",
    "$$\\sigma(z)=\\frac{1}{1+e^{-z}}.$$"
   ]
  },
  {
   "cell_type": "code",
   "execution_count": 2,
   "id": "637541bf",
   "metadata": {
    "execution": {
     "iopub.execute_input": "2022-04-19T10:30:37.601659Z",
     "iopub.status.busy": "2022-04-19T10:30:37.601380Z",
     "iopub.status.idle": "2022-04-19T10:30:38.103311Z",
     "shell.execute_reply": "2022-04-19T10:30:38.102413Z"
    },
    "papermill": {
     "duration": 0.555527,
     "end_time": "2022-04-19T10:30:38.105325",
     "exception": false,
     "start_time": "2022-04-19T10:30:37.549798",
     "status": "completed"
    },
    "tags": []
   },
   "outputs": [
    {
     "data": {
      "text/plain": [
       "Text(0, 0.5, '$\\\\sigma(z)$')"
      ]
     },
     "execution_count": 2,
     "metadata": {},
     "output_type": "execute_result"
    },
    {
     "data": {
      "image/png": "[encoded data removed]",
      "text/plain": [
       "<Figure size 720x288 with 1 Axes>"
      ]
     },
     "metadata": {},
     "output_type": "display_data"
    }
   ],
   "source": [
    "# Sigmoid function\n",
    "def sigmoid(z):\n",
    "    s = 1/(1+np.exp(-z))\n",
    "    return s\n",
    "\n",
    "# Plot sigmoid function\n",
    "grid=np.linspace(-5,5,100)\n",
    "plt.figure(figsize=(10,4))\n",
    "plt.plot(grid,sigmoid(grid))\n",
    "plt.vlines(0, ymin=0, ymax=1, color='red', linestyles='dashed')\n",
    "plt.title('Sigmoid function')\n",
    "plt.xlabel('z')\n",
    "plt.ylabel('$\\sigma(z)$')"
   ]
  },
  {
   "cell_type": "markdown",
   "id": "eee92dc1",
   "metadata": {
    "papermill": {
     "duration": 0.049642,
     "end_time": "2022-04-19T10:30:38.204830",
     "exception": false,
     "start_time": "2022-04-19T10:30:38.155188",
     "status": "completed"
    },
    "tags": []
   },
   "source": [
    "Our model therefore becomes \n",
    "\n",
    "$$\\hat{y}=\\sigma(w^{T}x+b).$$ \n",
    "\n",
    "The idea is that anything to the left of the red line ($\\hat{y} < 0.5$) is **classified as 0** and anything to the right ($\\hat{y} > 0.5$) is **classified as 1**. Our task is to learn the **optimal parameters** $w$ and $b$ so that the model can accurately predict the target. But first, let's try to understand how $w$ and $b$ affect the model. We'll let $w$ be a real number (as opposed to a vector) for simplicity."
   ]
  },
  {
   "cell_type": "code",
   "execution_count": 3,
   "id": "ea8fb505",
   "metadata": {
    "execution": {
     "iopub.execute_input": "2022-04-19T10:30:38.306364Z",
     "iopub.status.busy": "2022-04-19T10:30:38.305885Z",
     "iopub.status.idle": "2022-04-19T10:30:38.864300Z",
     "shell.execute_reply": "2022-04-19T10:30:38.863475Z"
    },
    "papermill": {
     "duration": 0.611516,
     "end_time": "2022-04-19T10:30:38.866072",
     "exception": false,
     "start_time": "2022-04-19T10:30:38.254556",
     "status": "completed"
    },
    "tags": []
   },
   "outputs": [
    {
     "data": {
      "image/png": "[encoded data removed]",
      "text/plain": [
       "<Figure size 864x288 with 2 Axes>"
      ]
     },
     "metadata": {},
     "output_type": "display_data"
    }
   ],
   "source": [
    "# Plot sigmoid function with different w and b\n",
    "plt.figure(figsize=(12,4))\n",
    "plt.subplot(1,2,1)\n",
    "plt.plot(grid,1/(1+np.exp(-grid)), color='C0', label='w=1')\n",
    "plt.plot(grid,1/(1+np.exp(-5*grid)), color='C1', label='w=5')\n",
    "plt.title('Sigmoid function')\n",
    "plt.xlabel('z')\n",
    "plt.ylabel('$\\sigma(z)$')\n",
    "plt.legend()\n",
    "\n",
    "plt.subplot(1,2,2)\n",
    "plt.plot(grid,1/(1+np.exp(-grid)), color='C0', label='b=0')\n",
    "plt.plot(grid,1/(1+np.exp(-grid+2)), color='C2', label='b=-2')\n",
    "plt.vlines(0, ymin=0, ymax=1, color='red', linestyles='dashed', alpha=0.5)\n",
    "plt.vlines(2, ymin=0, ymax=1, color='red', linestyles='dashed', alpha=0.5)\n",
    "plt.title('Sigmoid function')\n",
    "plt.xlabel('z')\n",
    "plt.ylabel('$\\sigma(z)$')\n",
    "plt.legend()\n",
    "plt.tight_layout()"
   ]
  },
  {
   "cell_type": "markdown",
   "id": "386a2de2",
   "metadata": {
    "papermill": {
     "duration": 0.053026,
     "end_time": "2022-04-19T10:30:38.970612",
     "exception": false,
     "start_time": "2022-04-19T10:30:38.917586",
     "status": "completed"
    },
    "tags": []
   },
   "source": [
    "From this we get the following intuition:\n",
    "* The weight controls how **steep** the curve is; we can think of this as how **confident** the model is at classifying samples.\n",
    "* The bias controls the position of the **decision boundary**. "
   ]
  },
  {
   "cell_type": "markdown",
   "id": "f0b44d35",
   "metadata": {
    "papermill": {
     "duration": 0.051354,
     "end_time": "2022-04-19T10:30:39.073521",
     "exception": false,
     "start_time": "2022-04-19T10:30:39.022167",
     "status": "completed"
    },
    "tags": []
   },
   "source": [
    "# Cost function"
   ]
  },
  {
   "cell_type": "markdown",
   "id": "a22b863e",
   "metadata": {
    "papermill": {
     "duration": 0.05103,
     "end_time": "2022-04-19T10:30:39.177752",
     "exception": false,
     "start_time": "2022-04-19T10:30:39.126722",
     "status": "completed"
    },
    "tags": []
   },
   "source": [
    "Now that we have our model, we need a way to find the optimal parameters. A natural way to do this is to define a cost function (which tells us **how good our predictions are**) and optimise it. \n",
    "\n",
    "For example, in linear regression we use a **least squares** objective $\\mathcal{L}(\\hat{y},y)=\\|\\hat{y} - y\\|^{2}$ because it is **convex** (which makes it easy to optimise) in $\\hat{y}$. Unfortunately, this isn't a good choice for logistic regression because it stops being convex (because we apply the sigmoid function which isn't convex) in this setting. "
   ]
  },
  {
   "cell_type": "markdown",
   "id": "724cf273",
   "metadata": {
    "papermill": {
     "duration": 0.051264,
     "end_time": "2022-04-19T10:30:39.280313",
     "exception": false,
     "start_time": "2022-04-19T10:30:39.229049",
     "status": "completed"
    },
    "tags": []
   },
   "source": [
    "**Convexity**"
   ]
  },
  {
   "cell_type": "markdown",
   "id": "8de064c9",
   "metadata": {
    "papermill": {
     "duration": 0.051309,
     "end_time": "2022-04-19T10:30:39.382805",
     "exception": false,
     "start_time": "2022-04-19T10:30:39.331496",
     "status": "completed"
    },
    "tags": []
   },
   "source": [
    "Why do we care about convexity? Convex functions have the useful property that **any local minimum is also a global minimum**. This means if we try to iteratively find the minimum of a convex function (e.g. using gradient descent) it **does not matter where the initial guess is** because it can always the minimum of the function (it might not be unique but we won't worry about this here).\n",
    "\n",
    "This property is **not true for non-convex functions** as there can be multiple local minima, so where you start has a big impact on where you end up."
   ]
  },
  {
   "cell_type": "markdown",
   "id": "169f7f10",
   "metadata": {
    "papermill": {
     "duration": 0.051116,
     "end_time": "2022-04-19T10:30:39.485334",
     "exception": false,
     "start_time": "2022-04-19T10:30:39.434218",
     "status": "completed"
    },
    "tags": []
   },
   "source": [
    "![convex_img](https://d3ansictanv2wj.cloudfront.net/convex-non-convex-9c8cb9320d4b0392c5f67004e8832e85.jpg)\n",
    "\n",
    "Left: convex, Right: non-convex."
   ]
  },
  {
   "cell_type": "markdown",
   "id": "fbe1dcad",
   "metadata": {
    "papermill": {
     "duration": 0.051014,
     "end_time": "2022-04-19T10:30:39.587776",
     "exception": false,
     "start_time": "2022-04-19T10:30:39.536762",
     "status": "completed"
    },
    "tags": []
   },
   "source": [
    "**Loss function**"
   ]
  },
  {
   "cell_type": "markdown",
   "id": "6002634b",
   "metadata": {
    "papermill": {
     "duration": 0.051918,
     "end_time": "2022-04-19T10:30:39.690984",
     "exception": false,
     "start_time": "2022-04-19T10:30:39.639066",
     "status": "completed"
    },
    "tags": []
   },
   "source": [
    "Luckily, a convex cost function for logistic regression exists. This is the **cross-entropy loss**:\n",
    "\n",
    "$$\\mathcal{L}(\\hat{y}, y)= -y \\log(\\hat{y})-(1-y) \\log(1-\\hat{y}).$$\n",
    "\n",
    "We will show where this comes from soon but for now observe that $\\mathcal{L}(\\hat{y}, 1)=-\\log(\\hat{y})$, which is **small** when $\\hat{y}$ is **close to 1** and large otherwise and $\\mathcal{L}(\\hat{y}, 0)=-\\log(1-\\hat{y})$, which is **small** when $\\hat{y}$ is **close to 0** and large otherwise. "
   ]
  },
  {
   "cell_type": "code",
   "execution_count": 4,
   "id": "cdb49763",
   "metadata": {
    "execution": {
     "iopub.execute_input": "2022-04-19T10:30:39.796100Z",
     "iopub.status.busy": "2022-04-19T10:30:39.795679Z",
     "iopub.status.idle": "2022-04-19T10:30:40.095781Z",
     "shell.execute_reply": "2022-04-19T10:30:40.095053Z"
    },
    "papermill": {
     "duration": 0.355097,
     "end_time": "2022-04-19T10:30:40.097877",
     "exception": false,
     "start_time": "2022-04-19T10:30:39.742780",
     "status": "completed"
    },
    "tags": []
   },
   "outputs": [
    {
     "data": {
      "text/plain": [
       "<matplotlib.legend.Legend at 0x7fe1abf0a290>"
      ]
     },
     "execution_count": 4,
     "metadata": {},
     "output_type": "execute_result"
    },
    {
     "data": {
      "image/png": "[encoded data removed]",
      "text/plain": [
       "<Figure size 720x288 with 1 Axes>"
      ]
     },
     "metadata": {},
     "output_type": "display_data"
    }
   ],
   "source": [
    "# Cross-entropy loss function\n",
    "def cross_entropy(yhat,y):\n",
    "    ce = -y*np.log(yhat) - (1-y)*np.log(1-yhat)\n",
    "    return ce\n",
    "\n",
    "# Plot sigmoid function\n",
    "grid=np.linspace(0.01,0.99,100)\n",
    "plt.figure(figsize=(10,4))\n",
    "plt.plot(grid,cross_entropy(grid,0), color='C0', label='y=0')\n",
    "plt.plot(grid,cross_entropy(grid,1), color='C1', label='y=1')\n",
    "plt.title('Cross entropy')\n",
    "plt.xlabel('yhat')\n",
    "plt.ylabel('Loss')\n",
    "plt.legend()"
   ]
  },
  {
   "cell_type": "markdown",
   "id": "6d0e8ae2",
   "metadata": {
    "papermill": {
     "duration": 0.055189,
     "end_time": "2022-04-19T10:30:40.207560",
     "exception": false,
     "start_time": "2022-04-19T10:30:40.152371",
     "status": "completed"
    },
    "tags": []
   },
   "source": [
    "This means that the loss function will be **small when the predictions are good** and **large when they are bad**. So by minimising this function we should find the parameters that lead to the best predictions."
   ]
  },
  {
   "cell_type": "markdown",
   "id": "566c938b",
   "metadata": {
    "papermill": {
     "duration": 0.054707,
     "end_time": "2022-04-19T10:30:40.315664",
     "exception": false,
     "start_time": "2022-04-19T10:30:40.260957",
     "status": "completed"
    },
    "tags": []
   },
   "source": [
    "**Derivation of cross-entropy loss**"
   ]
  },
  {
   "cell_type": "markdown",
   "id": "60d399df",
   "metadata": {
    "papermill": {
     "duration": 0.054458,
     "end_time": "2022-04-19T10:30:40.423575",
     "exception": false,
     "start_time": "2022-04-19T10:30:40.369117",
     "status": "completed"
    },
    "tags": []
   },
   "source": [
    "The loss functions comes from **maximum likelihood estimation**, which estimates the parameters by find the most likely model that could have produced the observed data. "
   ]
  },
  {
   "cell_type": "markdown",
   "id": "ad02b470",
   "metadata": {
    "papermill": {
     "duration": 0.05258,
     "end_time": "2022-04-19T10:30:40.529690",
     "exception": false,
     "start_time": "2022-04-19T10:30:40.477110",
     "status": "completed"
    },
    "tags": []
   },
   "source": [
    "![MLE_gif](https://cdn-images-1.medium.com/max/1200/1*jxZFpWtCbD4jHPV0DdDuMA.gif)"
   ]
  },
  {
   "cell_type": "markdown",
   "id": "c4d2174c",
   "metadata": {
    "papermill": {
     "duration": 0.05291,
     "end_time": "2022-04-19T10:30:40.635858",
     "exception": false,
     "start_time": "2022-04-19T10:30:40.582948",
     "status": "completed"
    },
    "tags": []
   },
   "source": [
    "We start with the **likelihood** that the data was produced by a logistic regression model with arbitrary parameters. This is the probability that the true 0's are predicted 0 by the model and the true 1's are predicted 1 by the model, i.e.\n",
    "\n",
    "$$L=\\prod_{k:y_k=1}\\hat{y}_k \\prod_{k:y_k=0}(1-\\hat{y}_k),$$\n",
    "\n",
    "which can be re-written as (using $x^0=1$)\n",
    "\n",
    "$$L=\\prod_{k} \\hat{y}_k^{\\, y_k} \\, (1-\\hat{y}_k)^{(1-y_k)}.$$\n",
    "\n",
    "Now we use a common trick from statistics. **Maximising the likelihood is the same as maximising the log-likelihood** (because log is a monotonically increasing function) and the latter is often easier to do because of properties of the logarithm.\n",
    "\n",
    "$$\\begin{align} \\log(L)\n",
    "&=\\sum_{k} y_k \\log(\\hat{y}_k) + (1-y_k) \\log(1-\\hat{y}_k)\n",
    "\\end{align}\n",
    "$$\n",
    "\n",
    "And finally, using that **maximising** $\\log(L)$ is the same as **minimising** $-\\log(L)$ we have showed where our loss function comes from. We will show convexity of this function later. \n",
    "\n",
    "**Fun fact**: The cross-entropy function also appears in **information theory** where it is commonly denoted $H(P,Q)$. If you are also familiar with entropy $H(P)$ and relative-entropy (or KL divergence) $D(P||Q)$ then the connection between all three is $H(P,Q)=H(P)+D(P||Q)$."
   ]
  },
  {
   "cell_type": "markdown",
   "id": "878011bb",
   "metadata": {
    "papermill": {
     "duration": 0.053188,
     "end_time": "2022-04-19T10:30:40.742123",
     "exception": false,
     "start_time": "2022-04-19T10:30:40.688935",
     "status": "completed"
    },
    "tags": []
   },
   "source": [
    "**Cost function**"
   ]
  },
  {
   "cell_type": "markdown",
   "id": "693d1277",
   "metadata": {
    "papermill": {
     "duration": 0.053038,
     "end_time": "2022-04-19T10:30:40.848566",
     "exception": false,
     "start_time": "2022-04-19T10:30:40.795528",
     "status": "completed"
    },
    "tags": []
   },
   "source": [
    "The loss function we defined above works for a single training example. Now we need to **extend** it to the **whole training set**. The way we do this is by taking the **average**.\n",
    "\n",
    "$$J(w,b)=\\frac{1}{m} \\sum_{i=1}^{m} \\mathcal{L}(\\hat{y}^{(i)},y^{(i)})$$\n",
    "\n",
    "The reason we devide by $m$ is so that if we change the size of the training set then we can still **compare** the cost function in a **fair** way. "
   ]
  },
  {
   "cell_type": "markdown",
   "id": "43f16f21",
   "metadata": {
    "papermill": {
     "duration": 0.053006,
     "end_time": "2022-04-19T10:30:40.956082",
     "exception": false,
     "start_time": "2022-04-19T10:30:40.903076",
     "status": "completed"
    },
    "tags": []
   },
   "source": [
    "**Logistic regression as a neural network**"
   ]
  },
  {
   "cell_type": "markdown",
   "id": "542e433a",
   "metadata": {
    "papermill": {
     "duration": 0.054987,
     "end_time": "2022-04-19T10:30:41.064103",
     "exception": false,
     "start_time": "2022-04-19T10:30:41.009116",
     "status": "completed"
    },
    "tags": []
   },
   "source": [
    "Interestingly, we can interpret logistic regression as a (baby) neural network with a single neuron and sigmoid activation function."
   ]
  },
  {
   "cell_type": "markdown",
   "id": "eb130a8f",
   "metadata": {
    "papermill": {
     "duration": 0.053035,
     "end_time": "2022-04-19T10:30:41.171459",
     "exception": false,
     "start_time": "2022-04-19T10:30:41.118424",
     "status": "completed"
    },
    "tags": []
   },
   "source": [
    "<center>\n",
    "<img src=\"https://i.postimg.cc/gk19FQ3V/LR-as-NN.jpg\" alt=\"drawing\" width=\"300\"/>\n",
    "<\\center>"
   ]
  },
  {
   "cell_type": "markdown",
   "id": "79fe2795",
   "metadata": {
    "papermill": {
     "duration": 0.052696,
     "end_time": "2022-04-19T10:30:41.277251",
     "exception": false,
     "start_time": "2022-04-19T10:30:41.224555",
     "status": "completed"
    },
    "tags": []
   },
   "source": [
    "This way of thinking will be helpful later when we are computing derivatives of the cost function. Evaluating the cost function can be thought of as forward propagation and computing derivatives can be thought of as backpropagation."
   ]
  },
  {
   "cell_type": "markdown",
   "id": "10fa92af",
   "metadata": {
    "papermill": {
     "duration": 0.052423,
     "end_time": "2022-04-19T10:30:41.382799",
     "exception": false,
     "start_time": "2022-04-19T10:30:41.330376",
     "status": "completed"
    },
    "tags": []
   },
   "source": [
    "# Gradient descent"
   ]
  },
  {
   "cell_type": "markdown",
   "id": "9b88cb3d",
   "metadata": {
    "papermill": {
     "duration": 0.052946,
     "end_time": "2022-04-19T10:30:41.489076",
     "exception": false,
     "start_time": "2022-04-19T10:30:41.436130",
     "status": "completed"
    },
    "tags": []
   },
   "source": [
    "We now turn to optimising the cost function. The **simplest** algorithm that does this (other than guessing randomly) is gradient descent. The idea is to repeatedly take **small steps** in the **direction of steepest descent**, where this direction is given by the **gradient**. The update rules for the k-th iteration are given by\n",
    "\n",
    "$$w_{k+1}=w_{k}-\\alpha \\frac{\\partial J}{\\partial w} \\biggr\\rvert_{(w_k,b_k)}, \\qquad b_{k+1}=b_{k}-\\alpha \\frac{\\partial J}{\\partial b} \\biggr\\rvert_{(w_k,b_k)}$$\n",
    "\n",
    "where $\\alpha$ is the **learning rate**, i.e. how big the steps are. If $\\alpha$ is too small then the algorithm will take a long time to converge but if $\\alpha$ is too big then it might keep jumping over the minimum and struggle to converge; the right value is somewhere in between."
   ]
  },
  {
   "cell_type": "markdown",
   "id": "effe525a",
   "metadata": {
    "papermill": {
     "duration": 0.053333,
     "end_time": "2022-04-19T10:30:41.595045",
     "exception": false,
     "start_time": "2022-04-19T10:30:41.541712",
     "status": "completed"
    },
    "tags": []
   },
   "source": [
    "<center>\n",
    "<img src=\"https://cdn-images-1.medium.com/max/1600/1*S3oLN40uWnGmP63lOFEDUg.gif\" alt=\"drawing\" width=\"400\"/>\n",
    "<\\center>"
   ]
  },
  {
   "cell_type": "markdown",
   "id": "5a086e78",
   "metadata": {
    "papermill": {
     "duration": 0.052777,
     "end_time": "2022-04-19T10:30:41.700654",
     "exception": false,
     "start_time": "2022-04-19T10:30:41.647877",
     "status": "completed"
    },
    "tags": []
   },
   "source": [
    "We first need to calculate the **gradient** of the cost function with respect to our parameters. For this, we will use the **chain rule** exactly like in backpropagation of neural networks. Recall the **chain rule** is given by\n",
    "\n",
    "$$\\frac{dy}{dx}=\\frac{dy}{du} \\frac{du}{dx}$$\n",
    "\n",
    "The easiest way to remember this is to think of derivatives as fractions and the middle terms cancelling out. (it's more complicated than this but it's easy to remember)"
   ]
  },
  {
   "cell_type": "markdown",
   "id": "b759e8d3",
   "metadata": {
    "papermill": {
     "duration": 0.052409,
     "end_time": "2022-04-19T10:30:41.806528",
     "exception": false,
     "start_time": "2022-04-19T10:30:41.754119",
     "status": "completed"
    },
    "tags": []
   },
   "source": [
    "**Computation graph**"
   ]
  },
  {
   "cell_type": "markdown",
   "id": "2b9af2df",
   "metadata": {
    "papermill": {
     "duration": 0.052412,
     "end_time": "2022-04-19T10:30:41.911571",
     "exception": false,
     "start_time": "2022-04-19T10:30:41.859159",
     "status": "completed"
    },
    "tags": []
   },
   "source": [
    "Now let's express logistic regression as a **computation graph** (which simply expresses a function as a sequence of simpler functions on a graph); this will make computing the derivatives easier."
   ]
  },
  {
   "cell_type": "markdown",
   "id": "d4ab9462",
   "metadata": {
    "papermill": {
     "duration": 0.052691,
     "end_time": "2022-04-19T10:30:42.017209",
     "exception": false,
     "start_time": "2022-04-19T10:30:41.964518",
     "status": "completed"
    },
    "tags": []
   },
   "source": [
    "[![IMG-0010.jpg](https://i.postimg.cc/wv0hF3rQ/IMG-0010.jpg)](https://postimg.cc/9RwRQXCD)"
   ]
  },
  {
   "cell_type": "markdown",
   "id": "e20b4e87",
   "metadata": {
    "papermill": {
     "duration": 0.053955,
     "end_time": "2022-04-19T10:30:42.124055",
     "exception": false,
     "start_time": "2022-04-19T10:30:42.070100",
     "status": "completed"
    },
    "tags": []
   },
   "source": [
    "To work out the **output** of these functions we go **forward** on this graph. To work out their **derivatives** we go **backwards** and multiply their individual derivatives together. In particular,\n",
    "\n",
    "$$\\frac{d\\mathcal{L}}{dw}=\\frac{d\\mathcal{L}}{da} \\frac{da}{dz} \\frac{dz}{dw}, \\qquad \\frac{d\\mathcal{L}}{db}=\\frac{d\\mathcal{L}}{da} \\frac{da}{dz} \\frac{dz}{db}.$$\n",
    "\n",
    "So we just need to work out the following 4 derivatives:\n",
    "\n",
    "$$\\frac{d\\mathcal{L}}{da}, \\quad \\frac{da}{dz}, \\quad \\frac{dz}{dw}, \\quad \\frac{dz}{db}.$$"
   ]
  },
  {
   "cell_type": "markdown",
   "id": "b22dcbb8",
   "metadata": {
    "papermill": {
     "duration": 0.052721,
     "end_time": "2022-04-19T10:30:42.230130",
     "exception": false,
     "start_time": "2022-04-19T10:30:42.177409",
     "status": "completed"
    },
    "tags": []
   },
   "source": [
    "**Derivatives**"
   ]
  },
  {
   "cell_type": "markdown",
   "id": "117020db",
   "metadata": {
    "execution": {
     "iopub.execute_input": "2022-04-14T19:28:49.731785Z",
     "iopub.status.busy": "2022-04-14T19:28:49.730017Z",
     "iopub.status.idle": "2022-04-14T19:28:49.751263Z",
     "shell.execute_reply": "2022-04-14T19:28:49.748881Z",
     "shell.execute_reply.started": "2022-04-14T19:28:49.731713Z"
    },
    "papermill": {
     "duration": 0.053656,
     "end_time": "2022-04-19T10:30:42.337520",
     "exception": false,
     "start_time": "2022-04-19T10:30:42.283864",
     "status": "completed"
    },
    "tags": []
   },
   "source": [
    "1. Recall $\\mathcal{L}(a,y)=-y \\log(a) - (1-y) \\log(1-a)$, so using that the derivative of $\\log(a)$ is $\\frac{1}{a}$, we get\n",
    "\n",
    "$$\\begin{align}\n",
    "\\frac{d\\mathcal{L}}{da}&=-y \\times \\frac{1}{a}-(1-y) \\times \\frac{1}{1-a} \\times (-1) \\\\\n",
    " &=-\\frac{y}{a}+\\frac{1-y}{1-a}\n",
    " \\end{align}$$.\n",
    "\n",
    "2. Recall $a=\\sigma(z)=(1+e^{-z})^{-1}$, so by the chain rule we have\n",
    "\n",
    "$$\\begin{align}\n",
    "\\frac{da}{dz}&=-(1+e^{-z})^{2} \\times (-e^{-z}) \\\\\n",
    "&=\\frac{1}{1+e^{-z}} \\times \\frac{e^{-z}}{1+e^{-z}} \\\\\n",
    "&=a(1-a)\n",
    "\\end{align}$$\n",
    "\n",
    "3. Recall $z=\\sum_{i=1}^{n} w_i x_i +b$, so by linearity of differentiation we have\n",
    "\n",
    "$$\\frac{dz}{dw}= x$$\n",
    "\n",
    "4. Finally, \n",
    "\n",
    "$$\\frac{dz}{db}=1$$"
   ]
  },
  {
   "cell_type": "markdown",
   "id": "729e65db",
   "metadata": {
    "papermill": {
     "duration": 0.052998,
     "end_time": "2022-04-19T10:30:42.443691",
     "exception": false,
     "start_time": "2022-04-19T10:30:42.390693",
     "status": "completed"
    },
    "tags": []
   },
   "source": [
    "**Putting the pieces together**"
   ]
  },
  {
   "cell_type": "markdown",
   "id": "de701d82",
   "metadata": {
    "papermill": {
     "duration": 0.052764,
     "end_time": "2022-04-19T10:30:42.549459",
     "exception": false,
     "start_time": "2022-04-19T10:30:42.496695",
     "status": "completed"
    },
    "tags": []
   },
   "source": [
    "We've done the hard part. Now we just need to **multiply** the correct derivatives together."
   ]
  },
  {
   "cell_type": "markdown",
   "id": "1b7aa82b",
   "metadata": {
    "papermill": {
     "duration": 0.052417,
     "end_time": "2022-04-19T10:30:42.654844",
     "exception": false,
     "start_time": "2022-04-19T10:30:42.602427",
     "status": "completed"
    },
    "tags": []
   },
   "source": [
    "$$ \\begin{align}\n",
    "\\frac{d\\mathcal{L}}{dw}&=\\frac{d\\mathcal{L}}{da} \\frac{da}{dz} \\frac{dz}{dw} \\\\\n",
    "&= \\left(-\\frac{y}{a}+\\frac{1-y}{1-a} \\right) \\times a(1-a) \\times x \\\\\n",
    "&= (a-y)x\n",
    "\\end{align}$$"
   ]
  },
  {
   "cell_type": "markdown",
   "id": "65440c16",
   "metadata": {
    "execution": {
     "iopub.execute_input": "2022-04-14T19:41:33.598687Z",
     "iopub.status.busy": "2022-04-14T19:41:33.597789Z",
     "iopub.status.idle": "2022-04-14T19:41:33.606962Z",
     "shell.execute_reply": "2022-04-14T19:41:33.605628Z",
     "shell.execute_reply.started": "2022-04-14T19:41:33.598646Z"
    },
    "papermill": {
     "duration": 0.052827,
     "end_time": "2022-04-19T10:30:42.760722",
     "exception": false,
     "start_time": "2022-04-19T10:30:42.707895",
     "status": "completed"
    },
    "tags": []
   },
   "source": [
    "$$ \\begin{align}\n",
    "\\frac{d\\mathcal{L}}{db}&=\\frac{d\\mathcal{L}}{da} \\frac{da}{dz} \\frac{dz}{db} \\\\\n",
    "&= \\left(-\\frac{y}{a}+\\frac{1-y}{1-a} \\right) \\times a(1-a) \\times 1 \\\\\n",
    "&= (a-y)\n",
    "\\end{align}$$"
   ]
  },
  {
   "cell_type": "markdown",
   "id": "239dc361",
   "metadata": {
    "papermill": {
     "duration": 0.052875,
     "end_time": "2022-04-19T10:30:42.866162",
     "exception": false,
     "start_time": "2022-04-19T10:30:42.813287",
     "status": "completed"
    },
    "tags": []
   },
   "source": [
    "Hence the **derivatives** of the cost function $J(a,y)=\\frac{1}{m}\\sum_{i=1}^{m}\\mathcal{L}(a^{(i)},y^{(i)})$ are just\n",
    "\n",
    "$$\\begin{align}\n",
    "\\frac{dJ}{dw}&=\\frac{1}{m} \\sum_{i=1}^{k} \\frac{d\\mathcal{L(a^{(i)},y^{(i)})}}{dw} \\\\\n",
    "&=\\frac{1}{m} \\sum_{i=1}^{k} (a^{(i)}-y^{(i)})x^{(i)} \\\\\n",
    "\\end{align}$$\n",
    "\n",
    "and \n",
    "\n",
    "$$\\begin{align}\n",
    "\\frac{dJ}{db}&=\\frac{1}{m} \\sum_{i=1}^{k} \\frac{d\\mathcal{L(a^{(i)},y^{(i)})}}{db} \\\\\n",
    "&=\\frac{1}{m} \\sum_{i=1}^{k} (a^{(i)}-y^{(i)}) \\\\\n",
    "\\end{align}.$$"
   ]
  },
  {
   "cell_type": "markdown",
   "id": "0f8083d4",
   "metadata": {
    "papermill": {
     "duration": 0.052536,
     "end_time": "2022-04-19T10:30:42.971316",
     "exception": false,
     "start_time": "2022-04-19T10:30:42.918780",
     "status": "completed"
    },
    "tags": []
   },
   "source": [
    "**Pseudo-code (non-vectorised)**"
   ]
  },
  {
   "cell_type": "markdown",
   "id": "abefe26f",
   "metadata": {
    "papermill": {
     "duration": 0.054613,
     "end_time": "2022-04-19T10:30:43.078846",
     "exception": false,
     "start_time": "2022-04-19T10:30:43.024233",
     "status": "completed"
    },
    "tags": []
   },
   "source": [
    "We now have all the pieces needed to implement **gradient descent** for logistic regression. Let's summarise the code below. First we'll show a **non-vectorised** form which will be **easier** to understand but we won't implement because it will be quite **slow**. After this we'll show a **vectorised** version, which **avoids for loops** to **speed up** the code.\n",
    "\n",
    "Note: We'll use the **naming convention** $dz$ to denote $\\frac{dJ}{dz}$ in our code for simplicity. So, as another example, $dw$ denotes $\\frac{dJ}{dw}$."
   ]
  },
  {
   "cell_type": "markdown",
   "id": "f8ea474f",
   "metadata": {
    "papermill": {
     "duration": 0.052382,
     "end_time": "2022-04-19T10:30:43.184273",
     "exception": false,
     "start_time": "2022-04-19T10:30:43.131891",
     "status": "completed"
    },
    "tags": []
   },
   "source": [
    "```\n",
    "Inputs: X, Y, alpha, K\n",
    "Initialise w=np.zeros(len(X)), b=0\n",
    "    For k=1, ..., K:\n",
    "        Initialise: J=0, dw=0, db=0\n",
    "        For i=1,...m:\n",
    "            z=w.T@X[:,i]+b\n",
    "            a=sigmoid(z)\n",
    "\n",
    "            # Cost function\n",
    "            J+=cross_entropy(a,Y[i])\n",
    "\n",
    "            # Derivatives\n",
    "            dz=a-Y[i]\n",
    "            dw+=X[:,i]*dz\n",
    "            db+=dz\n",
    "\n",
    "        # Take average\n",
    "        J/=m\n",
    "        dw/=m\n",
    "        db/=m\n",
    "\n",
    "       # Gradient descent step\n",
    "       w=w-alpha*dw\n",
    "       b=b-alpha*db\n",
    "       print(J)\n",
    "       \n",
    "   return w, b\n",
    "```"
   ]
  },
  {
   "cell_type": "markdown",
   "id": "38b2c36b",
   "metadata": {
    "papermill": {
     "duration": 0.052686,
     "end_time": "2022-04-19T10:30:43.289746",
     "exception": false,
     "start_time": "2022-04-19T10:30:43.237060",
     "status": "completed"
    },
    "tags": []
   },
   "source": [
    "**Pseudo-code (vectorised)**"
   ]
  },
  {
   "cell_type": "markdown",
   "id": "861d1f38",
   "metadata": {
    "papermill": {
     "duration": 0.055106,
     "end_time": "2022-04-19T10:30:43.397697",
     "exception": false,
     "start_time": "2022-04-19T10:30:43.342591",
     "status": "completed"
    },
    "tags": []
   },
   "source": [
    "Vectorisation **avoids for loops** and instead utilises CPU/GPU paralelisation which is often **significantly faster**. The idea is to use built in matrix algebra functions instead of using a for loop. Let's define some matrices that we'll use\n",
    "\n",
    "$$Z=[z^{(1)}, ..., z^{(m)}], \\quad \\text{where} \\quad z^{(i)}=w^{T}x^{(i)}+b,$$\n",
    "\n",
    "$$A=[a^{(1)}, ..., a^{(m)}], \\quad \\text{where} \\quad a^{(i)}=\\sigma(z^{(i)}),$$\n",
    "\n",
    "$$dZ=[dz^{(1)}, ..., dz^{(m)}], \\quad \\text{where} \\quad dz^{(i)}=a^{(i)}-y^{(i)},$$\n",
    "\n",
    "Now observe that we can quickly compute these via $Z=w^{T}X+b$, $A=\\text{sigmoid}(Z)$ and $dZ=A-Y$. Also, the derivatives are also nice: $db=dZ.\\text{sum}()/m$ and $dw=(X @ dZ^T)/m$."
   ]
  },
  {
   "cell_type": "markdown",
   "id": "dded9f45",
   "metadata": {
    "papermill": {
     "duration": 0.053243,
     "end_time": "2022-04-19T10:30:43.504160",
     "exception": false,
     "start_time": "2022-04-19T10:30:43.450917",
     "status": "completed"
    },
    "tags": []
   },
   "source": [
    "```\n",
    "Inputs: X, Y, alpha, K\n",
    "Initialise w=np.zeros(len(X)), b=0\n",
    "    For k=1, ..., K:\n",
    "        Z=w.T@X+b\n",
    "        A=sigmoid(Z)\n",
    "        \n",
    "        # Cost function\n",
    "        J=-(np.dot(Y,np.log(A))+np.dot(1-Y,np.log(1-A)))/m\n",
    "        \n",
    "        # Derivatives\n",
    "        dZ=A-Y\n",
    "        dw=(X@dZ.T)/m\n",
    "        db=dZ.sum()/m\n",
    "        \n",
    "        # Gradient descent step\n",
    "        w=w-alpha*dw\n",
    "        b=b-alpha*db\n",
    "        \n",
    "        print(J)\n",
    "        \n",
    "    return w, b\n",
    "```"
   ]
  },
  {
   "cell_type": "markdown",
   "id": "3aaac8e5",
   "metadata": {
    "papermill": {
     "duration": 0.052692,
     "end_time": "2022-04-19T10:30:43.610033",
     "exception": false,
     "start_time": "2022-04-19T10:30:43.557341",
     "status": "completed"
    },
    "tags": []
   },
   "source": [
    "Isn't that so much nicer? It will run **faster** and it also looks more **visually appealing**. We are now ready to implement the entire model from scratch! But first, let's prove the cost function is actually convex. "
   ]
  },
  {
   "cell_type": "markdown",
   "id": "dbcd5582",
   "metadata": {
    "papermill": {
     "duration": 0.053171,
     "end_time": "2022-04-19T10:30:43.716568",
     "exception": false,
     "start_time": "2022-04-19T10:30:43.663397",
     "status": "completed"
    },
    "tags": []
   },
   "source": [
    "**Convexity proof**"
   ]
  },
  {
   "cell_type": "markdown",
   "id": "f3c382d9",
   "metadata": {
    "papermill": {
     "duration": 0.052537,
     "end_time": "2022-04-19T10:30:43.822219",
     "exception": false,
     "start_time": "2022-04-19T10:30:43.769682",
     "status": "completed"
    },
    "tags": []
   },
   "source": [
    "For those interested, here we'll show why the cross-entropy loss function is **convex for logistic regression**. We will use the following theorem called the **second order convexity condition**.\n",
    "\n",
    "**Theorem:** Suppose $f : \\mathbb{R}^n \\rightarrow \\mathbb{R}$ is twice differentiable. Then $f$ is convex $\\iff \\nabla^2 f (x)$ is positive semi-definite for all $x$ in the domain of $f$.\n",
    "\n",
    "Note that $\\nabla^2 f (x)$ is called the **Hessian matrix** (containing second derivatives) of f and it is a **positive semi-definite** matrix if it satisfies $v^{T} H v \\geq 0$ for all $v$. \n",
    "\n",
    "Intuitively, this theorem says that if the rate of change of $f$ (the first derivate) is always increasing (second derivative is non-negative) then $f$ will curve 'upwards' and be convex. Now lets use this result. Observe,\n",
    "\n",
    "$$\\begin{align}\\frac{d^2J}{dw^2}\n",
    "&=\\frac{d}{dw} \\left( \\frac{1}{m} \\sum_{i=1}^{k} (a^{(i)}-y^{(i)})x^{(i)} \\right) \\\\\n",
    "&= \\frac{1}{m} \\sum_{i=1}^{k}\\frac{d}{dw} (a^{(i)}x^{(i)}) \\\\\n",
    "&= \\frac{1}{m} \\sum_{i=1}^{k} a^{(i)}(1-a^{(i)})x^{(i)} (x^{(i)})^{T}\n",
    "\\end{align}$$\n",
    "\n",
    "So we just need to show the matrix $H = a^{(i)}(1-a^{(i)})x^{(i)} (x^{(i)})^{T}$ is positive semi-defininate (PSD) because the average of PSD matrices is also PSD. We have\n",
    "\n",
    "$$\\begin{align} v^{T} H v \n",
    "&= v^{T} a^{(i)}(1-a^{(i)}) x^{(i)} (x^{(i)})^{T} v \\\\\n",
    "&= a^{(i)}(1-a^{(i)}) ((x^{(i)})^{T} v)^2 \\\\\n",
    "&\\geq a^{(i)}(1-a^{(i)}) \\\\\n",
    "&\\geq 0, \\\\\n",
    "\\end{align}$$\n",
    "\n",
    "since the sigmoid function $a^{(i)}$ lies between 0 and 1. Thus $H$ is PSD and hence so is $\\frac{d^2J}{dw^2}$. Finally, note that logistic regression can be reparameterised to get rid of the b term. Indeed, let $\\tilde{w}=(1|w)$ and $\\tilde{b}=(b|x)$ then $\\tilde{w}^{T} \\tilde{x} = w^{T}x +b$. We have proven that $J(w,b)$ is a convex function for logistic regression by the second order convexity condition."
   ]
  },
  {
   "cell_type": "markdown",
   "id": "7022b208",
   "metadata": {
    "papermill": {
     "duration": 0.053372,
     "end_time": "2022-04-19T10:30:43.929359",
     "exception": false,
     "start_time": "2022-04-19T10:30:43.875987",
     "status": "completed"
    },
    "tags": []
   },
   "source": [
    "# Code from scratch"
   ]
  },
  {
   "cell_type": "code",
   "execution_count": 5,
   "id": "0f52f4df",
   "metadata": {
    "execution": {
     "iopub.execute_input": "2022-04-19T10:30:44.040689Z",
     "iopub.status.busy": "2022-04-19T10:30:44.040129Z",
     "iopub.status.idle": "2022-04-19T10:30:44.053659Z",
     "shell.execute_reply": "2022-04-19T10:30:44.053018Z"
    },
    "papermill": {
     "duration": 0.070348,
     "end_time": "2022-04-19T10:30:44.055666",
     "exception": false,
     "start_time": "2022-04-19T10:30:43.985318",
     "status": "completed"
    },
    "tags": []
   },
   "outputs": [],
   "source": [
    "class Logistic_Regression:\n",
    "    def __init__(self, verbose=False, alpha=0.1, K=100):\n",
    "        self.verbose = verbose\n",
    "        self.alpha = alpha\n",
    "        self.K = K\n",
    "        self.w = np.zeros([])\n",
    "        self.b = 0\n",
    "        self.costs = []\n",
    "    \n",
    "    # Train model\n",
    "    def fit(self, X, y):\n",
    "        m = len(y)\n",
    "        self.w = np.zeros(X.shape[1])\n",
    "        for k in range(self.K):\n",
    "            Z = self.w @ X.T + self.b\n",
    "            A = 1/(1+np.exp(-Z))\n",
    "            \n",
    "            # Cost function\n",
    "            cost = -(np.dot(y,np.log(A))+np.dot(1-y,np.log(1-A)))/m\n",
    "\n",
    "            # Derivatives\n",
    "            dZ = A-y\n",
    "            dw = (X.T @ dZ)/m\n",
    "            db = dZ.sum()/m\n",
    "            \n",
    "            # Gradient descent step\n",
    "            self.w = self.w-self.alpha * dw\n",
    "            self.b = self.b-self.alpha * db\n",
    "            \n",
    "            # Record the costs\n",
    "            self.costs.append(cost)\n",
    "\n",
    "            # Print the cost every 100 iterations\n",
    "            if (self.verbose) & (((k+1) % 100) == 0):\n",
    "                print(f\"Iteration = {k+1}, cost = {cost}\")\n",
    "    \n",
    "    # Predict class\n",
    "    def predict(self, X_test):\n",
    "        Z = self.w @ X_test.T + self.b\n",
    "        A = 1/(1+np.exp(-Z))\n",
    "        return np.round(A).astype(int)\n",
    "    \n",
    "    # Predict probability\n",
    "    def predict_proba(self, X_test):\n",
    "        Z = self.w @ X_test.T + self.b\n",
    "        A = 1/(1+np.exp(-Z))\n",
    "        return A\n",
    "    \n",
    "    # Measure accuracy over test set\n",
    "    def score(self, X_test, y_test):\n",
    "        preds = self.predict(X_test)\n",
    "        acc = (preds==y_test).sum()/len(y_test)\n",
    "        return acc"
   ]
  },
  {
   "cell_type": "markdown",
   "id": "7bab23a8",
   "metadata": {
    "papermill": {
     "duration": 0.053135,
     "end_time": "2022-04-19T10:30:44.165431",
     "exception": false,
     "start_time": "2022-04-19T10:30:44.112296",
     "status": "completed"
    },
    "tags": []
   },
   "source": [
    "# Example"
   ]
  },
  {
   "cell_type": "markdown",
   "id": "c8791113",
   "metadata": {
    "papermill": {
     "duration": 0.052429,
     "end_time": "2022-04-19T10:30:44.271075",
     "exception": false,
     "start_time": "2022-04-19T10:30:44.218646",
     "status": "completed"
    },
    "tags": []
   },
   "source": [
    "We'll use a **surgical dataset** to test our code. It contains features like BMI, age, etc and we'll use these to **predict** whether a patient has an in-hospital **complication**. We'll compare it to sklearn's logistic regression to make sure our implementation works correctly."
   ]
  },
  {
   "cell_type": "code",
   "execution_count": 6,
   "id": "06381530",
   "metadata": {
    "execution": {
     "iopub.execute_input": "2022-04-19T10:30:44.379078Z",
     "iopub.status.busy": "2022-04-19T10:30:44.378578Z",
     "iopub.status.idle": "2022-04-19T10:30:44.490853Z",
     "shell.execute_reply": "2022-04-19T10:30:44.489822Z"
    },
    "papermill": {
     "duration": 0.168754,
     "end_time": "2022-04-19T10:30:44.492951",
     "exception": false,
     "start_time": "2022-04-19T10:30:44.324197",
     "status": "completed"
    },
    "tags": []
   },
   "outputs": [
    {
     "name": "stdout",
     "output_type": "stream",
     "text": [
      "Dataset dimensions: (14635, 25)\n"
     ]
    },
    {
     "data": {
      "text/html": [
       "<div>\n",
       "<style scoped>\n",
       "    .dataframe tbody tr th:only-of-type {\n",
       "        vertical-align: middle;\n",
       "    }\n",
       "\n",
       "    .dataframe tbody tr th {\n",
       "        vertical-align: top;\n",
       "    }\n",
       "\n",
       "    .dataframe thead th {\n",
       "        text-align: right;\n",
       "    }\n",
       "</style>\n",
       "<table border=\"1\" class=\"dataframe\">\n",
       "  <thead>\n",
       "    <tr style=\"text-align: right;\">\n",
       "      <th></th>\n",
       "      <th>bmi</th>\n",
       "      <th>Age</th>\n",
       "      <th>asa_status</th>\n",
       "      <th>baseline_cancer</th>\n",
       "      <th>baseline_charlson</th>\n",
       "      <th>baseline_cvd</th>\n",
       "      <th>baseline_dementia</th>\n",
       "      <th>baseline_diabetes</th>\n",
       "      <th>baseline_digestive</th>\n",
       "      <th>baseline_osteoart</th>\n",
       "      <th>...</th>\n",
       "      <th>complication_rsi</th>\n",
       "      <th>dow</th>\n",
       "      <th>gender</th>\n",
       "      <th>hour</th>\n",
       "      <th>month</th>\n",
       "      <th>moonphase</th>\n",
       "      <th>mort30</th>\n",
       "      <th>mortality_rsi</th>\n",
       "      <th>race</th>\n",
       "      <th>complication</th>\n",
       "    </tr>\n",
       "  </thead>\n",
       "  <tbody>\n",
       "    <tr>\n",
       "      <th>0</th>\n",
       "      <td>19.31</td>\n",
       "      <td>59.2</td>\n",
       "      <td>1</td>\n",
       "      <td>1</td>\n",
       "      <td>0</td>\n",
       "      <td>0</td>\n",
       "      <td>0</td>\n",
       "      <td>0</td>\n",
       "      <td>0</td>\n",
       "      <td>0</td>\n",
       "      <td>...</td>\n",
       "      <td>-0.57</td>\n",
       "      <td>3</td>\n",
       "      <td>0</td>\n",
       "      <td>7.63</td>\n",
       "      <td>6</td>\n",
       "      <td>1</td>\n",
       "      <td>0</td>\n",
       "      <td>-0.43</td>\n",
       "      <td>1</td>\n",
       "      <td>0</td>\n",
       "    </tr>\n",
       "    <tr>\n",
       "      <th>1</th>\n",
       "      <td>18.73</td>\n",
       "      <td>59.1</td>\n",
       "      <td>0</td>\n",
       "      <td>0</td>\n",
       "      <td>0</td>\n",
       "      <td>0</td>\n",
       "      <td>0</td>\n",
       "      <td>0</td>\n",
       "      <td>0</td>\n",
       "      <td>0</td>\n",
       "      <td>...</td>\n",
       "      <td>0.21</td>\n",
       "      <td>0</td>\n",
       "      <td>0</td>\n",
       "      <td>12.93</td>\n",
       "      <td>0</td>\n",
       "      <td>1</td>\n",
       "      <td>0</td>\n",
       "      <td>-0.41</td>\n",
       "      <td>1</td>\n",
       "      <td>0</td>\n",
       "    </tr>\n",
       "    <tr>\n",
       "      <th>2</th>\n",
       "      <td>21.85</td>\n",
       "      <td>59.0</td>\n",
       "      <td>0</td>\n",
       "      <td>0</td>\n",
       "      <td>0</td>\n",
       "      <td>0</td>\n",
       "      <td>0</td>\n",
       "      <td>0</td>\n",
       "      <td>0</td>\n",
       "      <td>0</td>\n",
       "      <td>...</td>\n",
       "      <td>0.00</td>\n",
       "      <td>2</td>\n",
       "      <td>0</td>\n",
       "      <td>7.68</td>\n",
       "      <td>5</td>\n",
       "      <td>3</td>\n",
       "      <td>0</td>\n",
       "      <td>0.08</td>\n",
       "      <td>1</td>\n",
       "      <td>0</td>\n",
       "    </tr>\n",
       "    <tr>\n",
       "      <th>3</th>\n",
       "      <td>18.49</td>\n",
       "      <td>59.0</td>\n",
       "      <td>1</td>\n",
       "      <td>0</td>\n",
       "      <td>1</td>\n",
       "      <td>0</td>\n",
       "      <td>0</td>\n",
       "      <td>1</td>\n",
       "      <td>1</td>\n",
       "      <td>0</td>\n",
       "      <td>...</td>\n",
       "      <td>-0.65</td>\n",
       "      <td>2</td>\n",
       "      <td>1</td>\n",
       "      <td>7.58</td>\n",
       "      <td>4</td>\n",
       "      <td>3</td>\n",
       "      <td>0</td>\n",
       "      <td>-0.32</td>\n",
       "      <td>1</td>\n",
       "      <td>0</td>\n",
       "    </tr>\n",
       "    <tr>\n",
       "      <th>4</th>\n",
       "      <td>19.70</td>\n",
       "      <td>59.0</td>\n",
       "      <td>1</td>\n",
       "      <td>0</td>\n",
       "      <td>0</td>\n",
       "      <td>0</td>\n",
       "      <td>0</td>\n",
       "      <td>0</td>\n",
       "      <td>0</td>\n",
       "      <td>0</td>\n",
       "      <td>...</td>\n",
       "      <td>0.00</td>\n",
       "      <td>0</td>\n",
       "      <td>0</td>\n",
       "      <td>7.88</td>\n",
       "      <td>11</td>\n",
       "      <td>0</td>\n",
       "      <td>0</td>\n",
       "      <td>0.00</td>\n",
       "      <td>1</td>\n",
       "      <td>0</td>\n",
       "    </tr>\n",
       "  </tbody>\n",
       "</table>\n",
       "<p>5 rows × 25 columns</p>\n",
       "</div>"
      ],
      "text/plain": [
       "     bmi   Age  asa_status  baseline_cancer  baseline_charlson  baseline_cvd  \\\n",
       "0  19.31  59.2           1                1                  0             0   \n",
       "1  18.73  59.1           0                0                  0             0   \n",
       "2  21.85  59.0           0                0                  0             0   \n",
       "3  18.49  59.0           1                0                  1             0   \n",
       "4  19.70  59.0           1                0                  0             0   \n",
       "\n",
       "   baseline_dementia  baseline_diabetes  baseline_digestive  \\\n",
       "0                  0                  0                   0   \n",
       "1                  0                  0                   0   \n",
       "2                  0                  0                   0   \n",
       "3                  0                  1                   1   \n",
       "4                  0                  0                   0   \n",
       "\n",
       "   baseline_osteoart  ...  complication_rsi  dow  gender   hour  month  \\\n",
       "0                  0  ...             -0.57    3       0   7.63      6   \n",
       "1                  0  ...              0.21    0       0  12.93      0   \n",
       "2                  0  ...              0.00    2       0   7.68      5   \n",
       "3                  0  ...             -0.65    2       1   7.58      4   \n",
       "4                  0  ...              0.00    0       0   7.88     11   \n",
       "\n",
       "   moonphase  mort30  mortality_rsi  race  complication  \n",
       "0          1       0          -0.43     1             0  \n",
       "1          1       0          -0.41     1             0  \n",
       "2          3       0           0.08     1             0  \n",
       "3          3       0          -0.32     1             0  \n",
       "4          0       0           0.00     1             0  \n",
       "\n",
       "[5 rows x 25 columns]"
      ]
     },
     "execution_count": 6,
     "metadata": {},
     "output_type": "execute_result"
    }
   ],
   "source": [
    "# Load dataset\n",
    "data=pd.read_csv('../input/surgical-dataset-binary-classification/Surgical-deepnet.csv')\n",
    "data.dropna(inplace=True)\n",
    "print('Dataset dimensions:', data.shape)\n",
    "data.head()"
   ]
  },
  {
   "cell_type": "code",
   "execution_count": 7,
   "id": "e283fc43",
   "metadata": {
    "execution": {
     "iopub.execute_input": "2022-04-19T10:30:44.604278Z",
     "iopub.status.busy": "2022-04-19T10:30:44.603962Z",
     "iopub.status.idle": "2022-04-19T10:30:44.627041Z",
     "shell.execute_reply": "2022-04-19T10:30:44.626155Z"
    },
    "papermill": {
     "duration": 0.081554,
     "end_time": "2022-04-19T10:30:44.629403",
     "exception": false,
     "start_time": "2022-04-19T10:30:44.547849",
     "status": "completed"
    },
    "tags": []
   },
   "outputs": [],
   "source": [
    "# Features and labels\n",
    "y=data['complication'].copy()\n",
    "X=data.drop('complication', axis=1).copy()\n",
    "\n",
    "# Train-test split\n",
    "X_train, X_test, y_train, y_test = train_test_split(X,y,stratify=y,train_size=0.8,test_size=0.2,random_state=0)"
   ]
  },
  {
   "cell_type": "markdown",
   "id": "a0ecfd80",
   "metadata": {
    "papermill": {
     "duration": 0.054904,
     "end_time": "2022-04-19T10:30:44.738984",
     "exception": false,
     "start_time": "2022-04-19T10:30:44.684080",
     "status": "completed"
    },
    "tags": []
   },
   "source": [
    "**Re-balance target**"
   ]
  },
  {
   "cell_type": "markdown",
   "id": "03810a5d",
   "metadata": {
    "papermill": {
     "duration": 0.053648,
     "end_time": "2022-04-19T10:30:44.846831",
     "exception": false,
     "start_time": "2022-04-19T10:30:44.793183",
     "status": "completed"
    },
    "tags": []
   },
   "source": [
    "Let's make sure the target is made up of **50% of each class** so not to bias the model."
   ]
  },
  {
   "cell_type": "code",
   "execution_count": 8,
   "id": "48e9b79b",
   "metadata": {
    "execution": {
     "iopub.execute_input": "2022-04-19T10:30:44.961089Z",
     "iopub.status.busy": "2022-04-19T10:30:44.960090Z",
     "iopub.status.idle": "2022-04-19T10:30:44.977342Z",
     "shell.execute_reply": "2022-04-19T10:30:44.976563Z"
    },
    "papermill": {
     "duration": 0.077912,
     "end_time": "2022-04-19T10:30:44.979928",
     "exception": false,
     "start_time": "2022-04-19T10:30:44.902016",
     "status": "completed"
    },
    "tags": []
   },
   "outputs": [
    {
     "name": "stdout",
     "output_type": "stream",
     "text": [
      "0    2952\n",
      "1    2952\n",
      "dtype: int64\n"
     ]
    }
   ],
   "source": [
    "# Majority class\n",
    "X_train_maj=X_train[y_train==0]\n",
    "y_train_maj=y_train[y_train==0]\n",
    "\n",
    "# Minority class\n",
    "X_train_min=X_train[y_train==1]\n",
    "y_train_min=y_train[y_train==1]\n",
    "\n",
    "# Undersample majority class\n",
    "X_train_under, y_train_under = resample(X_train_maj, y_train_maj, n_samples=len(y_train[y_train==1]), random_state=0)\n",
    "\n",
    "# Concatenate arrays\n",
    "X_train_under=np.concatenate((X_train_under, X_train_min), axis=0)\n",
    "y_train_under=np.concatenate((y_train_under, y_train_min), axis=0)\n",
    "\n",
    "# Print undersampled distribution\n",
    "print(pd.Series(y_train_under).value_counts())"
   ]
  },
  {
   "cell_type": "code",
   "execution_count": 9,
   "id": "12e7bd9d",
   "metadata": {
    "execution": {
     "iopub.execute_input": "2022-04-19T10:30:45.092745Z",
     "iopub.status.busy": "2022-04-19T10:30:45.092082Z",
     "iopub.status.idle": "2022-04-19T10:30:46.365926Z",
     "shell.execute_reply": "2022-04-19T10:30:46.364971Z"
    },
    "papermill": {
     "duration": 1.333821,
     "end_time": "2022-04-19T10:30:46.369369",
     "exception": false,
     "start_time": "2022-04-19T10:30:45.035548",
     "status": "completed"
    },
    "tags": []
   },
   "outputs": [
    {
     "name": "stdout",
     "output_type": "stream",
     "text": [
      "Iteration = 100, cost = 0.6521836862140264\n",
      "Iteration = 200, cost = 0.6381220846130428\n",
      "Iteration = 300, cost = 0.6287897979041914\n",
      "Iteration = 400, cost = 0.6215577078206413\n",
      "Iteration = 500, cost = 0.6157147079381744\n",
      "Iteration = 600, cost = 0.6108876635522671\n",
      "Iteration = 700, cost = 0.6068315299532606\n",
      "Iteration = 800, cost = 0.6033751943698534\n",
      "Iteration = 900, cost = 0.600395497734083\n",
      "Iteration = 1000, cost = 0.5978015688681365\n",
      "Iteration = 1100, cost = 0.5955248115619688\n",
      "Iteration = 1200, cost = 0.5935123500938405\n",
      "Iteration = 1300, cost = 0.5917226537662097\n",
      "Iteration = 1400, cost = 0.5901225572811304\n",
      "Iteration = 1500, cost = 0.5886851897665348\n",
      "Iteration = 1600, cost = 0.5873885055385789\n",
      "Iteration = 1700, cost = 0.5862142206088768\n",
      "Iteration = 1800, cost = 0.5851470279157684\n",
      "Iteration = 1900, cost = 0.584174007653389\n",
      "Iteration = 2000, cost = 0.5832841767302248\n",
      "\n",
      "Accuracy on test set: 0.6576699692517937\n"
     ]
    }
   ],
   "source": [
    "# Our model\n",
    "model1=Logistic_Regression(verbose=True, alpha=0.001, K=2000)\n",
    "model1.fit(X_train_under, y_train_under)\n",
    "print('')\n",
    "print('Accuracy on test set:', model1.score(X_test.values, y_test))"
   ]
  },
  {
   "cell_type": "code",
   "execution_count": 10,
   "id": "47ed544d",
   "metadata": {
    "execution": {
     "iopub.execute_input": "2022-04-19T10:30:46.536688Z",
     "iopub.status.busy": "2022-04-19T10:30:46.536419Z",
     "iopub.status.idle": "2022-04-19T10:30:50.700713Z",
     "shell.execute_reply": "2022-04-19T10:30:50.699857Z"
    },
    "papermill": {
     "duration": 4.228673,
     "end_time": "2022-04-19T10:30:50.705553",
     "exception": false,
     "start_time": "2022-04-19T10:30:46.476880",
     "status": "completed"
    },
    "tags": []
   },
   "outputs": [
    {
     "name": "stdout",
     "output_type": "stream",
     "text": [
      "Accuracy on test set: 0.7256576699692517\n"
     ]
    },
    {
     "name": "stderr",
     "output_type": "stream",
     "text": [
      "/opt/conda/lib/python3.7/site-packages/sklearn/linear_model/_sag.py:354: ConvergenceWarning: The max_iter was reached which means the coef_ did not converge\n",
      "  ConvergenceWarning,\n"
     ]
    }
   ],
   "source": [
    "# Sklearn's model (uses different solver - otherwise the same)\n",
    "model2=LogisticRegression(solver='saga', penalty='none', max_iter=2000, tol=0, random_state=0)\n",
    "model2.fit(X_train_under, y_train_under)\n",
    "print('Accuracy on test set:', model2.score(X_test.values, y_test))"
   ]
  },
  {
   "cell_type": "markdown",
   "id": "79ab0cf0",
   "metadata": {
    "papermill": {
     "duration": 0.058924,
     "end_time": "2022-04-19T10:30:50.872057",
     "exception": false,
     "start_time": "2022-04-19T10:30:50.813133",
     "status": "completed"
    },
    "tags": []
   },
   "source": [
    "**Comparison**"
   ]
  },
  {
   "cell_type": "code",
   "execution_count": 11,
   "id": "65aa39ab",
   "metadata": {
    "execution": {
     "iopub.execute_input": "2022-04-19T10:30:50.989456Z",
     "iopub.status.busy": "2022-04-19T10:30:50.989206Z",
     "iopub.status.idle": "2022-04-19T10:30:51.721685Z",
     "shell.execute_reply": "2022-04-19T10:30:51.720905Z"
    },
    "papermill": {
     "duration": 0.792715,
     "end_time": "2022-04-19T10:30:51.723630",
     "exception": false,
     "start_time": "2022-04-19T10:30:50.930915",
     "status": "completed"
    },
    "tags": []
   },
   "outputs": [
    {
     "data": {
      "text/plain": [
       "Text(0.5, 1.0, 'Sklearn LR')"
      ]
     },
     "execution_count": 11,
     "metadata": {},
     "output_type": "execute_result"
    },
    {
     "data": {
      "image/png": "[encoded data removed]",
      "text/plain": [
       "<Figure size 1440x288 with 2 Axes>"
      ]
     },
     "metadata": {},
     "output_type": "display_data"
    }
   ],
   "source": [
    "# Compare predicted probabilities\n",
    "plt.figure(figsize=(20,4))\n",
    "plt.subplot(1,2,1)\n",
    "sns.histplot(model1.predict_proba(X_test.values), kde=True, color='C0')\n",
    "plt.title('LR from scratch')\n",
    "\n",
    "plt.subplot(1,2,2)\n",
    "sns.histplot(model2.predict_proba(X_test.values)[:,1], kde=True, color='C1')\n",
    "plt.title('Sklearn LR')"
   ]
  },
  {
   "cell_type": "markdown",
   "id": "796b59ab",
   "metadata": {
    "papermill": {
     "duration": 0.059356,
     "end_time": "2022-04-19T10:30:51.843300",
     "exception": false,
     "start_time": "2022-04-19T10:30:51.783944",
     "status": "completed"
    },
    "tags": []
   },
   "source": [
    "The distributions look quite similar which is good. We can make sure predictions of the two models are close to each other by looking at their difference, i.e. **residuals**."
   ]
  },
  {
   "cell_type": "code",
   "execution_count": 12,
   "id": "0fb0ac1c",
   "metadata": {
    "execution": {
     "iopub.execute_input": "2022-04-19T10:30:51.964968Z",
     "iopub.status.busy": "2022-04-19T10:30:51.964683Z",
     "iopub.status.idle": "2022-04-19T10:30:52.323246Z",
     "shell.execute_reply": "2022-04-19T10:30:52.322377Z"
    },
    "papermill": {
     "duration": 0.421316,
     "end_time": "2022-04-19T10:30:52.325206",
     "exception": false,
     "start_time": "2022-04-19T10:30:51.903890",
     "status": "completed"
    },
    "tags": []
   },
   "outputs": [
    {
     "data": {
      "text/plain": [
       "Text(0.5, 1.0, 'Residuals')"
      ]
     },
     "execution_count": 12,
     "metadata": {},
     "output_type": "execute_result"
    },
    {
     "data": {
      "image/png": "[encoded data removed]",
      "text/plain": [
       "<Figure size 720x288 with 1 Axes>"
      ]
     },
     "metadata": {},
     "output_type": "display_data"
    }
   ],
   "source": [
    "# Probability residuals\n",
    "plt.figure(figsize=(10,4))\n",
    "sns.histplot(model1.predict_proba(X_test.values)-model2.predict_proba(X_test.values)[:,1], kde=True)\n",
    "plt.title('Residuals')"
   ]
  },
  {
   "cell_type": "markdown",
   "id": "524ffe49",
   "metadata": {
    "papermill": {
     "duration": 0.060578,
     "end_time": "2022-04-19T10:30:52.446971",
     "exception": false,
     "start_time": "2022-04-19T10:30:52.386393",
     "status": "completed"
    },
    "tags": []
   },
   "source": [
    "Pretty good! Keep in mind our model uses basic gradient descent whilst sklearns uses saga, which is a more sophisticated optimisation algorithm. "
   ]
  },
  {
   "cell_type": "markdown",
   "id": "dd8b1a0f",
   "metadata": {
    "papermill": {
     "duration": 0.061725,
     "end_time": "2022-04-19T10:30:52.570883",
     "exception": false,
     "start_time": "2022-04-19T10:30:52.509158",
     "status": "completed"
    },
    "tags": []
   },
   "source": [
    "**Acknowledgements:**\n",
    "* [Deep Learning course](https://www.coursera.org/learn/neural-networks-deep-learning) by Andrew NG.\n",
    "* [Convexity proof](https://www.xiaowenying.com/machine-learning/2019/11/11/Convex-Optimization.html#23-second-order-convexity-condtion) by Xiaowen Ying.\n",
    "\n",
    "Thanks for reading!"
   ]
  }
 ],
 "metadata": {
  "kernelspec": {
   "display_name": "Python 3",
   "language": "python",
   "name": "python3"
  },
  "language_info": {
   "codemirror_mode": {
    "name": "ipython",
    "version": 3
   },
   "file_extension": ".py",
   "mimetype": "text/x-python",
   "name": "python",
   "nbconvert_exporter": "python",
   "pygments_lexer": "ipython3",
   "version": "3.7.12"
  },
  "papermill": {
   "default_parameters": {},
   "duration": 27.123443,
   "end_time": "2022-04-19T10:30:53.353930",
   "environment_variables": {},
   "exception": null,
   "input_path": "__notebook__.ipynb",
   "output_path": "__notebook__.ipynb",
   "parameters": {},
   "start_time": "2022-04-19T10:30:26.230487",
   "version": "2.3.4"
  }
 },
 "nbformat": 4,
 "nbformat_minor": 5
}
